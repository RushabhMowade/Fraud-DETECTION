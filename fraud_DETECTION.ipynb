{
 "cells": [
  {
   "cell_type": "code",
   "execution_count": 5,
   "metadata": {},
   "outputs": [],
   "source": [
    "import pandas as pd\n",
    "import numpy as np"
   ]
  },
  {
   "cell_type": "code",
   "execution_count": 6,
   "metadata": {},
   "outputs": [
    {
     "name": "stdout",
     "output_type": "stream",
     "text": [
      "    account_id customer_name  amount transaction_date\n",
      "0         1001         Aarav   20000       2025-07-30\n",
      "1         1002        Tushar   20000       2025-07-30\n",
      "2         1003          Neha   30000       2025-07-30\n",
      "3         1004          Riya   40000       2025-07-30\n",
      "4         1005        Gautam   80000       2025-07-30\n",
      "5         1005        Gautam  120000       2025-07-30\n",
      "6         1004          Riya   45000       2025-07-30\n",
      "7         1005        Gautam  130000       2025-07-30\n",
      "8         1005        Gautam  150000       2025-07-30\n",
      "9         1003          Neha   30000       2025-07-30\n",
      "10        1005        Gautam  160000       2025-07-30\n",
      "11        1002        Tushar   50000       2025-07-30\n",
      "12        1005        Gautam  140000       2025-07-30\n",
      "13        1001         Aarav   25000       2025-07-30\n",
      "14        1005        Gautam  135000       2025-07-30\n",
      "15        1005        Gautam   60000       2025-07-30\n",
      "16        1004          Riya   50000       2025-07-30\n",
      "17        1005        Gautam   70000       2025-07-30\n",
      "18        1005        Gautam  125000       2025-07-30\n",
      "19        1005        Gautam  110000       2025-07-30\n"
     ]
    }
   ],
   "source": [
    "transaction_data = {\n",
    "    'account_id': [1001, 1002, 1003, 1004, 1005,1005, 1004, 1005, 1005, 1003,1005, 1002, 1005, 1001, 1005,1005, 1004, 1005, 1005, 1005],\n",
    "    'customer_name': ['Aarav', 'Tushar', 'Neha', 'Riya', 'Gautam','Gautam', 'Riya', 'Gautam', 'Gautam', 'Neha', 'Gautam', 'Tushar', 'Gautam', 'Aarav', 'Gautam',\n",
    "                      'Gautam', 'Riya', 'Gautam', 'Gautam', 'Gautam'],\n",
    "    'amount': [20000, 20000, 30000, 40000, 80000,120000, 45000, 130000, 150000, 30000,160000, 50000, 140000, 25000, 135000,60000, 50000, 70000, 125000, 110000],\n",
    "    'transaction_date':(['2025-07-30']*20)\n",
    "}\n",
    "df = pd.DataFrame(transaction_data)\n",
    "print(df)"
   ]
  },
  {
   "cell_type": "code",
   "execution_count": 7,
   "metadata": {},
   "outputs": [
    {
     "name": "stdout",
     "output_type": "stream",
     "text": [
      "   account_id customer_name transaction_date   amount\n",
      "0        1001         Aarav       2025-07-30    45000\n",
      "1        1002        Tushar       2025-07-30    70000\n",
      "2        1003          Neha       2025-07-30    60000\n",
      "3        1004          Riya       2025-07-30   135000\n",
      "4        1005        Gautam       2025-07-30  1280000\n"
     ]
    }
   ],
   "source": [
    "transaction_group=df.groupby(['account_id','customer_name','transaction_date']).sum().reset_index()\n",
    "print(transaction_group)"
   ]
  },
  {
   "cell_type": "code",
   "execution_count": 8,
   "metadata": {},
   "outputs": [
    {
     "name": "stdout",
     "output_type": "stream",
     "text": [
      "   account_id customer_name transaction_date   amount\n",
      "3        1004          Riya       2025-07-30   135000\n",
      "4        1005        Gautam       2025-07-30  1280000\n"
     ]
    }
   ],
   "source": [
    "high_value_df = transaction_group[transaction_group['amount'] > 100000]\n",
    "print(high_value_df)\n"
   ]
  },
  {
   "cell_type": "code",
   "execution_count": 9,
   "metadata": {},
   "outputs": [
    {
     "name": "stdout",
     "output_type": "stream",
     "text": [
      "customer_name\n",
      "Aarav      2\n",
      "Gautam    11\n",
      "Neha       2\n",
      "Riya       3\n",
      "Tushar     2\n",
      "Name: amount, dtype: int64\n"
     ]
    }
   ],
   "source": [
    "transactions=df.groupby('customer_name')['amount'].count()\n",
    "print(transactions)"
   ]
  },
  {
   "cell_type": "code",
   "execution_count": 10,
   "metadata": {},
   "outputs": [],
   "source": [
    "fraud = transaction_group[transaction_group['customer_name'].map(transactions) > 10]"
   ]
  },
  {
   "cell_type": "code",
   "execution_count": 11,
   "metadata": {},
   "outputs": [
    {
     "name": "stdout",
     "output_type": "stream",
     "text": [
      "FRAUD DETECTION:\n",
      "\n",
      "   account_id customer_name transaction_date   amount\n",
      "4        1005        Gautam       2025-07-30  1280000\n"
     ]
    }
   ],
   "source": [
    "print(\"FRAUD DETECTION:\\n\")\n",
    "print(fraud)"
   ]
  },
  {
   "cell_type": "code",
   "execution_count": 12,
   "metadata": {},
   "outputs": [
    {
     "name": "stdout",
     "output_type": "stream",
     "text": [
      "Person with ID 1005, name Gautam, amount ₹1280000, date 2025-07-30 has been suspected as fraud.\n"
     ]
    }
   ],
   "source": [
    "for index, row in fraud.iterrows():\n",
    "    print(f\"Person with ID {row['account_id']}, name {row['customer_name']}, \"\n",
    "          f\"amount ₹{row['amount']}, date {row['transaction_date']} has been suspected as fraud.\")"
   ]
  },
  {
   "cell_type": "code",
   "execution_count": 13,
   "metadata": {},
   "outputs": [
    {
     "name": "stdout",
     "output_type": "stream",
     "text": [
      "Thank YOU\n"
     ]
    }
   ],
   "source": [
    "print(\"Thank YOU\")"
   ]
  },
  {
   "cell_type": "code",
   "execution_count": null,
   "metadata": {},
   "outputs": [],
   "source": []
  }
 ],
 "metadata": {
  "kernelspec": {
   "display_name": "Python 3",
   "language": "python",
   "name": "python3"
  },
  "language_info": {
   "codemirror_mode": {
    "name": "ipython",
    "version": 3
   },
   "file_extension": ".py",
   "mimetype": "text/x-python",
   "name": "python",
   "nbconvert_exporter": "python",
   "pygments_lexer": "ipython3",
   "version": "3.11.9"
  }
 },
 "nbformat": 4,
 "nbformat_minor": 2
}
